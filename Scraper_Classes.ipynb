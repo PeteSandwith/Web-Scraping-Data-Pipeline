{
 "cells": [
  {
   "cell_type": "code",
   "execution_count": 22,
   "metadata": {},
   "outputs": [],
   "source": [
    "from selenium import webdriver\n",
    "import time\n",
    "from selenium.webdriver.common.by import By\n",
    "from selenium.webdriver.common.keys import Keys\n",
    "from selenium.webdriver.common.action_chains import ActionChains\n",
    "driver = webdriver.Chrome()\n",
    "\n",
    "class Scraper_Object:\n",
    "    def __init__(self, location, category):\n",
    "        self.location = location\n",
    "        self.category = category\n",
    "        \n",
    "        driver.get('https://www.tripadvisor.com/')\n",
    "        \n",
    "        time.sleep(3)\n",
    "\n",
    "        try:\n",
    "            accept_cookies_button = driver.find_element_by_xpath('//button[@id=\"onetrust-accept-btn-handler\"]')\n",
    "            accept_cookies_button.click()\n",
    "            time.sleep(1)\n",
    "        except:\n",
    "            pass\n",
    "        time.sleep(5)"
   ]
  }
 ],
 "metadata": {
  "interpreter": {
   "hash": "bc6aee26d74ebf5fd9ff223917f46591e174bd4f8a931b714fad2afe26fc6eae"
  },
  "kernelspec": {
   "display_name": "Python 3.9.5 64-bit ('base': conda)",
   "language": "python",
   "name": "python3"
  },
  "language_info": {
   "codemirror_mode": {
    "name": "ipython",
    "version": 3
   },
   "file_extension": ".py",
   "mimetype": "text/x-python",
   "name": "python",
   "nbconvert_exporter": "python",
   "pygments_lexer": "ipython3",
   "version": "3.9.5"
  },
  "orig_nbformat": 4
 },
 "nbformat": 4,
 "nbformat_minor": 2
}
