{
 "cells": [
  {
   "cell_type": "code",
   "execution_count": 3,
   "metadata": {},
   "outputs": [
    {
     "name": "stdout",
     "output_type": "stream",
     "text": [
      "['https://www.tripadvisor.com/Attraction_Review-g186338-d187547-Reviews-Tower_of_London-London_England.html', 'https://www.tripadvisor.com/Attraction_Review-g186338-d187552-Reviews-Tower_Bridge-London_England.html', 'https://www.tripadvisor.com/Attraction_Review-g186338-d194299-Reviews-Churchill_War_Rooms-London_England.html', 'https://www.tripadvisor.com/Attraction_Review-g186338-d188862-Reviews-National_Gallery-London_England.html', 'https://www.tripadvisor.com/Attraction_Review-g186338-d187555-Reviews-The_British_Museum-London_England.html', 'https://www.tripadvisor.com/Attraction_Review-g186338-d189032-Reviews-Westminster_Abbey-London_England.html', 'https://www.tripadvisor.com/Attraction_Review-g186338-d187556-Reviews-V_A_Victoria_and_Albert_Museum-London_England.html', 'https://www.tripadvisor.com/Attraction_Review-g186338-d188159-Reviews-St_Paul_s_Cathedral-London_England.html', 'https://www.tripadvisor.com/Attraction_Review-g186338-d187676-Reviews-Natural_History_Museum-London_England.html', 'https://www.tripadvisor.com/Attraction_Review-g186338-d260500-Reviews-Borough_Market-London_England.html']\n",
      "10\n"
     ]
    }
   ],
   "source": [
    "from selenium import webdriver\n",
    "import time\n",
    "from selenium.webdriver.common.by import By\n",
    "from selenium.webdriver.common.keys import Keys\n",
    "from selenium.webdriver.common.action_chains import ActionChains\n",
    "driver = webdriver.Chrome()\n",
    "\n",
    "class Scraper_Object:\n",
    "    def __init__(self, location, category):\n",
    "        self.location = location\n",
    "        self.category = category\n",
    "        \n",
    "        driver.get('https://www.tripadvisor.com/')\n",
    "        \n",
    "        time.sleep(3)\n",
    "\n",
    "        try:\n",
    "            accept_cookies_button = driver.find_element_by_xpath('//button[@id=\"onetrust-accept-btn-handler\"]')\n",
    "            accept_cookies_button.click()\n",
    "            time.sleep(1)\n",
    "        except:\n",
    "            pass\n",
    "        time.sleep(5)\n",
    "    \n",
    "    def find_things_to_do(self, length):\n",
    "        things_to_do_crawler = []\n",
    "        driver.find_element_by_xpath('//*[@id=\"lithium-root\"]/main/div[1]/div[2]/div/div/div[3]/a').click()\n",
    "        time.sleep(1)\n",
    "        search_bar = driver.find_element_by_xpath('/html/body/div[3]/div/form/input[1]')\n",
    "        search_bar.send_keys(self.location)\n",
    "        time.sleep(1)\n",
    "        search_bar.send_keys(Keys.RETURN)\n",
    "        time.sleep(5)\n",
    "        actions = ActionChains(driver)\n",
    "        actions.move_to_element(driver.find_element_by_xpath('//a[@class=\"fGwNR _G B- z _S c Wc ddFHE fRPQK w eMHQC brHeh\"]')).perform()\n",
    "        time.sleep(1)\n",
    "        see_all_button = driver.find_element_by_xpath('//a[@class=\"fGwNR _G B- z _S c Wc ddFHE fRPQK w eMHQC brHeh\"]')\n",
    "        see_all_button.click()\n",
    "        time.sleep(10)\n",
    "        window2 = driver.window_handles[1]\n",
    "        driver.switch_to.window(window2)\n",
    "       \n",
    "        things_to_do_block = driver.find_elements_by_xpath('//div[@class=\"hKncF\"]/section//a[@class=\"FmrIP _R w _Z P0 M0 Gm ddFHE\"]')\n",
    "\n",
    "        count = 0\n",
    "        for item in things_to_do_block:\n",
    "            if count < length:\n",
    "                link = item.get_attribute('href')\n",
    "                things_to_do_crawler.append(link)\n",
    "                count += 1\n",
    "        print(things_to_do_crawler)\n",
    "        print(len(things_to_do_crawler))\n",
    "        \n",
    "       \n",
    "       \n",
    "\n",
    "tester = Scraper_Object(\"London\", \"Things To Do\")\n",
    "tester.find_things_to_do(10)"
   ]
  }
 ],
 "metadata": {
  "interpreter": {
   "hash": "bc6aee26d74ebf5fd9ff223917f46591e174bd4f8a931b714fad2afe26fc6eae"
  },
  "kernelspec": {
   "display_name": "Python 3.9.5 64-bit ('base': conda)",
   "language": "python",
   "name": "python3"
  },
  "language_info": {
   "codemirror_mode": {
    "name": "ipython",
    "version": 3
   },
   "file_extension": ".py",
   "mimetype": "text/x-python",
   "name": "python",
   "nbconvert_exporter": "python",
   "pygments_lexer": "ipython3",
   "version": "3.9.5"
  },
  "orig_nbformat": 4
 },
 "nbformat": 4,
 "nbformat_minor": 2
}
