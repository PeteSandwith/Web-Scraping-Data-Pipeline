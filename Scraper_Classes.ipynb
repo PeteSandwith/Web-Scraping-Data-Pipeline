{
 "cells": [
  {
   "cell_type": "code",
   "execution_count": 34,
   "metadata": {},
   "outputs": [
    {
     "name": "stdout",
     "output_type": "stream",
     "text": [
      "[]\n"
     ]
    }
   ],
   "source": [
    "from selenium import webdriver\n",
    "import time\n",
    "from selenium.webdriver.common.by import By\n",
    "from selenium.webdriver.common.keys import Keys\n",
    "from selenium.webdriver.common.action_chains import ActionChains\n",
    "driver = webdriver.Chrome()\n",
    "\n",
    "class Scraper_Object:\n",
    "    def __init__(self, location, category):\n",
    "        self.location = location\n",
    "        self.category = category\n",
    "        \n",
    "        driver.get('https://www.tripadvisor.com/')\n",
    "        \n",
    "        time.sleep(3)\n",
    "\n",
    "        try:\n",
    "            accept_cookies_button = driver.find_element_by_xpath('//button[@id=\"onetrust-accept-btn-handler\"]')\n",
    "            accept_cookies_button.click()\n",
    "            time.sleep(1)\n",
    "        except:\n",
    "            pass\n",
    "        time.sleep(5)\n",
    "    \n",
    "    def find_things_to_do(self):\n",
    "        things_to_do_crawler = []\n",
    "        driver.find_element_by_xpath('//*[@id=\"lithium-root\"]/main/div[1]/div[2]/div/div/div[3]/a').click()\n",
    "        time.sleep(1)\n",
    "        search_bar = driver.find_element_by_xpath('/html/body/div[3]/div/form/input[1]')\n",
    "        search_bar.send_keys(self.location)\n",
    "        time.sleep(1)\n",
    "        search_bar.send_keys(Keys.RETURN)\n",
    "        time.sleep(5)\n",
    "        actions = ActionChains(driver)\n",
    "        actions.move_to_element(driver.find_element_by_xpath('//a[@class=\"fGwNR _G B- z _S c Wc ddFHE fRPQK w eMHQC brHeh\"]')).perform()\n",
    "        time.sleep(1)\n",
    "        see_all_button = driver.find_element_by_xpath('//a[@class=\"fGwNR _G B- z _S c Wc ddFHE fRPQK w eMHQC brHeh\"]')\n",
    "        see_all_button.click()\n",
    "        time.sleep(10)\n",
    "\n",
    "        things_to_do_block = driver.find_elements_by_xpath('//div[@class=\"hKncF\"]//a')\n",
    "        for item in things_to_do_block:\n",
    "            href = item.get_attribute('href')\n",
    "            things_to_do_crawler.append(href)\n",
    "        print(things_to_do_crawler)\n",
    "        \n",
    "        #for item in things_to_do_list:\n",
    "        #    a_tag = item.find_element_by_tag_name('a')\n",
    "        #    link = a_tag.get_attribute('href')\n",
    "         #   things_to_do_crawler.append(link)\n",
    "       # return(things_to_do_crawler)\n",
    "\n",
    "\n",
    "tester = Scraper_Object(\"London\", \"Things To Do\")\n",
    "tester.find_things_to_do()"
   ]
  }
 ],
 "metadata": {
  "interpreter": {
   "hash": "bc6aee26d74ebf5fd9ff223917f46591e174bd4f8a931b714fad2afe26fc6eae"
  },
  "kernelspec": {
   "display_name": "Python 3.9.5 64-bit ('base': conda)",
   "language": "python",
   "name": "python3"
  },
  "language_info": {
   "codemirror_mode": {
    "name": "ipython",
    "version": 3
   },
   "file_extension": ".py",
   "mimetype": "text/x-python",
   "name": "python",
   "nbconvert_exporter": "python",
   "pygments_lexer": "ipython3",
   "version": "3.9.5"
  },
  "orig_nbformat": 4
 },
 "nbformat": 4,
 "nbformat_minor": 2
}
